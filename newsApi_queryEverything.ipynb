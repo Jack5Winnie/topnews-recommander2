{
 "metadata": {
  "language_info": {
   "codemirror_mode": {
    "name": "ipython",
    "version": 3
   },
   "file_extension": ".py",
   "mimetype": "text/x-python",
   "name": "python",
   "nbconvert_exporter": "python",
   "pygments_lexer": "ipython3",
   "version": "3.8.3-final"
  },
  "orig_nbformat": 2,
  "kernelspec": {
   "name": "python3",
   "display_name": "Python 3"
  }
 },
 "nbformat": 4,
 "nbformat_minor": 2,
 "cells": [
  {
   "cell_type": "code",
   "execution_count": 1,
   "metadata": {},
   "outputs": [],
   "source": [
    "from bs4 import BeautifulSoup"
   ]
  },
  {
   "cell_type": "code",
   "execution_count": 2,
   "metadata": {},
   "outputs": [],
   "source": [
    "raw_html = \"\"\"<p>This article originally was published here: <a href=\"https://www.wealthdaily.com/articles/the-next-tesla-taking-the-private-market-by-storm/97737\">https://www.wealthdaily.com/articles/the-next-tesla-taking-the-private-market-by-storm/97737</a></p><p>A little over 10 years ago, Elon Musk rang the bell on the Nasdaq to celebrate the debut of his new company stock: Tesla.</p> <p>Back then, his company and he were the <em>entire</em> electric vehicle industry.</p> <p>Fast-forward to today and there are nearly two dozen EV companies whose stock you can trade.</p> <p>And to be perfectly honest, much of that growth happened in 2020 as funding rushed into the market.</p> <p>A few have merged with special purpose acquisition companies (SPACs), more have held a traditional IPO, and the market is getting crowded with EV stock.</p> <p>Investors can <em>finally </em>see the writing on the wall. Electric vehicles are the future. The companies that bring us that future will be the leaders of tomorrow... and will make early investors rich beyond their wildest dreams.</p> <h3><strong>Analysis Paralysis</strong></h3> <p>So which EV company should you invest in? Obviously, Tesla is at the top of the heap. It&rsquo;s the market leader. Heck, it established the whole market in the first place with its Roadster.</p> <p>But is it going to keep delivering the kinds of stock gains it has in the past? <a href=\"https://www.wealthdaily.com/articles/battery-day-a-make-or-break-moment-for-tesla/97017\">Tesla stock</a> went public at $17 a share. Adjusted for the recent split, that&rsquo;s $3.40 a share. Those investors have made a 15,000% gain.</p> <p>The stock might go up that much more again, but as a company gets bigger and bigger, those gains become tougher and tougher to make.</p> <p>What about the newly public Chinese entrants like Kandi and NIO? Should you buy their stocks? Personally, I&rsquo;m not a fan of Chinese companies. They can say whatever they want about their autonomy; they operate under an authoritarian government. They&rsquo;re Chinese government companies.</p> <p>And they&rsquo;re wide open for fraud since they don&rsquo;t have to follow the same regulatory rules as U.S.-domiciled companies.</p> <p>So what does that leave? Nikola? Scandalous. Workhorse? Potential. GM or Ford? In the famous words of Joe Biden, &ldquo;C&rsquo;mon, man.&rdquo;</p> <p>With so many choices out there, it can be tough to make a decision at all. That&rsquo;s sometimes called &ldquo;analysis paralysis.&rdquo; It&rsquo;s when you get stuck on the research and aren&rsquo;t able to make a move.</p> <p>But I&rsquo;m here to help. I&rsquo;ve been watching and investing in this market since it was just one company, and I have the inside track on a company that could become the next Tesla that I want to share with you.</p> <p>But if I don&rsquo;t think you should invest in any of these publicly traded <a href=\"https://www.wealthdaily.com/articles/forget-tesla-nasdaq-tsla-here-s-a-better-strategy-for-ev-investors/97309\">EV companies</a>, yet I do think you should be invested in the EV market, where on earth do I want you to put your hard-earned money to watch it grow?</p> <h3><strong>The Most Exclusive Club on Earth</strong></h3> <p>For nearly a century, the most lucrative investment market in the world has been off-limits to 99% of the investing world. Legally, the vast majority of us could not invest in this market even if we knew it existed.</p> <p>For most of the world, the existence of such a profitable market was a complete mystery, and it was kept that way for decades for a reason.</p> <p>You see, the rules of finance are written by politicians, and politicians are bought and paid for by wealthy people. Wealthy people like to keep their money &ldquo;in the family.&rdquo;</p> <p>They don&rsquo;t want a whole lot of &ldquo;outsiders&rdquo; like us getting the chance to join their club. They&rsquo;ll spend as much money as they have to, bribing politicians to keep their interests protected.</p> <p>So it shouldn&rsquo;t be that surprising that they were able to get their employees in congress to make it illegal for anyone but them, the uber-wealthy, to invest in the most profitable companies.</p> <p>To paraphrase George Carlin, it was one big club and you weren&rsquo;t in it.</p> <p>But that&rsquo;s all changed recently. In a complete about-face, Congress passed a law that favors the average investor. It finally opened the most profitable corner of the market to everyone.</p> <p>How profitable am I talking here? Well, according to recent studies, this market returns 55% per year on average &mdash; in good times and in bad ones.</p> <p>Compare that to the public markets that barely average 10% gains (and that&rsquo;s before inflation), and you see why it&rsquo;s imperative you get invested too.</p> <p>Or, even better, compare Tesla&rsquo;s early investors to its IPO investors.</p> <p>The <a href=\"https://www.wealthdaily.com/articles/an-airbnb-ipo-is-coming/97732\">IPO investors</a>, as you already know, are looking at a 15,000% gain &mdash; pretty darned good.</p> <p>But Tesla&rsquo;s earliest investors got in at $0.50 a share. After adjusting for the recent stock split, that&rsquo;s $0.10 a share. At current prices, they have a <strong>535,000% gain</strong>.</p> <p>In fact, this market has been shown to capture nearly all of the profits seen by investors in companies. About 30 years ago, it was practically the opposite. Most of the profits were made by investing in public stocks.</p> <p>Today, more than <strong>90%</strong>&nbsp;of investor profits are earned&nbsp;<em><u>outside</u></em>&nbsp;of the traditional stock market!</p> <p>And while everyone is now eligible to invest in this lucrative market, still less than a quarter of a percent of the population even knows it exists.</p> <p>That&rsquo;s what I&rsquo;m hoping to change.</p> <h3><strong>Taking <em>Main Street </em>to Wall Street</strong></h3> <p>You see, I&rsquo;m talking about <a href=\"https://www.wealthdaily.com/articles/how-to-invest-in-private-companies/96863\">the private market</a> here. I&rsquo;ve been investing in this market for years, even before Congress made the change.</p> <p>I was fortunate &mdash; I worked for a big investment bank. I made connections (and lots of money). I became eligible for this market. And I spent years studying successful investors&rsquo; strategies.</p> <p>So I have more than a little experience investing in companies outside of the stock market.</p> <p>And because I&rsquo;ve participated in the market, I know how life-changing the profits can be. I&rsquo;m talking about the ability to fund a retirement, pay off a house, or pay for college with just one investment.</p> <p>I mean really life-changing money &mdash; money you can use to plan the rest of your life, live in luxury for the rest of your years and still have plenty left over to leave to your family or favorite charity.</p> <p>So I want to help as many people as I can get a piece of the profits in this lucrative market. I want as many people as possible to get a chance to walk away with those storybook gains of 100,000%, and I want to make sure you only consider the best investments in this market.</p> <p>After decades of building a network of entrepreneurs and venture investors and after refining my strategy through my own investments, I founded a first of its kind investment advisory service called <a href=\"https://www.angelpub.com/premium-detailed/msv\"><em>Main Street Ventures</em>.</a></p> <p>Our goal is to open these lucrative markets to all and to&nbsp;serve as your&nbsp;guide through the often-complex world of private investments.</p> <p>Since launching this year, we&rsquo;ve helped to fund five companies. One of them went public a week or so ago. We got in late on that company but still made a quick double on our investment.</p> <p>As I type, we have two open <a href=\"https://www.wealthdaily.com/articles/our-company-just-went-public-/97694\">investments in private companies</a> that have all the promise to become stock market stars after an IPO in a year or two.</p> <p>And we have the chance to invest in them long before they hit the open markets.</p> <p>One of them is the EV company I think you should be putting your money to work with.</p> <h3><strong>The Real Tesla of Trucks</strong></h3> <p>Before its scandalous fall from grace, Nikola was styled as the &ldquo;Tesla of Trucks.&rdquo; It turns out the company didn&rsquo;t actually have a working truck though.</p> <p>But I found the real &ldquo;Tesla of Trucks.&rdquo; It&rsquo;s a private company you&rsquo;ve probably never heard of.</p> <p>And I also found a way for you to <a href=\"https://www.wealthdaily.com/articles/how-to-invest-in-companies-before-they-go-public/97577\">invest in it BEFORE it hits the public markets</a>.&nbsp;</p> <p>This company is right about where Tesla was back when early investors scooped up shares for less than $0.50. Actually, it&rsquo;s a lot further along than Tesla was back then.</p> <p>Elon Musk himself admitted that at Tesla&rsquo;s earliest funding round the company was nothing but, &ldquo;three partners with an unfunded business plan and no trademarks, assets, or offices to their name.&rdquo;</p> <p><div class=\"panel signup-primary\"> <div class=\"panel-heading font-20px\">Investing in Fuel Cells?</div> <div class=\"panel-body white background\"> <p>We have you covered! Sign up for our FREE newsletter, <em>Wealth Daily</em>, today and gain first access to actionable stock market commentary, regular IPO updates, and weekly technical analysis. <strong>Plus</strong>, if you sign up <em>right now</em>, we'll immediately send you our free report: \"<strong>Wealth Daily's Top 2 Fuel Cell Stocks</strong>.\"</p> <div style=\"text-align: center;\"><form action=\"https://secure.wealthdaily.com/info\" method=\"GET\"> <div class=\"input-group\"><input class=\"form-control\" name=\"email\" type=\"email\" /> <input name=\"effortid\" type=\"hidden\" value=\"245473\" /><input name=\"terms\" style=\"display: none !important;\" type=\"checkbox\" value=\"1\" /> <span class=\"input-group-btn\"> <input class=\"btn btn-default\" name=\"submit\" type=\"submit\" value=\"Sign me up!\" /> </span></div> <span style=\"font-size: 12px;\"> We never spam! <a href=\"https://www.wealthdaily.com/privacy\" style=\"color: #00456b;\" target=\"_new\">View our Privacy Policy</a> </span></form></div> </div> </div></p> <p>This company has trademarks, assets, and so much more. And you have the opportunity to invest in it before the rest of the market finds out.</p> <p>The company in question makes light-duty electric trucks, and unlike its multibillion-dollar competitors Workhorse and Nikola, it actually has a functional vehicle.</p> <p>And it can make that vehicle cheaper and faster than any of its competitors.</p> <p>But it&rsquo;s not trying to get to market with a sneaky reverse merger or special purpose vehicle that makes it easier to hide bad fundamentals, so investors haven&rsquo;t caught on yet.</p> <p>But when they see what this company is capable of, they will.</p> <p>And this funding round will give the company the leverage it needs to really take off.</p> <p>It already has offices and operations in both Europe and the U.S., and it&rsquo;s expanding in India and Southeast Asia as I type.</p> <p>I can&rsquo;t go into too much detail here because I just don&rsquo;t have space, but I recently sent out a full write-up and recommendation to my <a href=\"https://secure.angelpub.com/o/op/277065\"><em>Main Street Ventures</em> investors</a>.</p> <h3><strong>Your Invitation to the Club</strong></h3> <p>So if you&rsquo;re interested in getting in on the next Tesla <em>before</em> the 500,000% profits are already taken, <a href=\"https://secure.wealthdaily.com/o/web/294636\">click here</a>&nbsp;to find out how to join us today.</p> <p>I&rsquo;ve put together a presentation on this market, the legislation that opened it, and the opportunities that are abounding in it. You can get access to that <a href=\"https://secure.wealthdaily.com/o/web/294636\">by clicking here.</a></p> <p>But, if you prefer to read about the opportunity, you <a href=\"https://secure.wealthdaily.com/o/web/294639\">can click here to get access to a special report.</a>&nbsp;</p> <p>I&rsquo;m particularly proud of the presentation, and my team spent a lot of time putting it together, so I&rsquo;d appreciate it if you gave it a view.</p> <p>Though I understand you might not have time for that.&nbsp;So I&rsquo;ve made sure the written report has all the same information so that&nbsp;you can read it at your leisure.&nbsp;</p> <p>Just don&rsquo;t be too leisurely about it. These kinds of investments open and close very quickly. Sometimes they fill up in less than 24 hours.</p> <p>Any delay can cost you not just a few hundred percent gains but the entire opportunity.</p> <p>That&rsquo;s why I&rsquo;m urging you to take some time out of your day today to learn how you can start investing in private companies.</p> <p>I want you to be one of the early investors taking home a massive win at the IPO and watching as the rest of your investment grows to a true fortune.</p> <p>So <a href=\"https://www.angelnexus.com/o/web/294636\">click here now</a>&nbsp;and learn how you can buy the next Tesla and turn a $100 investment into a $1 million retirement account.</p> <p>As soon as you make the decision to join me and the thousands of investors already profiting in the private markets, you&rsquo;ll receive an invitation to invest in the \"Tesla of Trucks\" plus another incredible private company set to completely disrupt its industry.</p> <p><p>To your wealth,</p> <p><img alt=\"jason-williams-signature-transparent\" border=\"0\" height=\"100\" src=\"https://images.angelpub.com/2018/04/49957/jason-williams-signature-transparent.png\" width=\"138\" /></p> <p>Jason Williams</p> <p><a href=\"https://twitter.com/TheReal_JayDubs\" rel=\"noopener\" target=\"_blank\"><img alt=\"follow basic\" border=\"0\" src=\"https://images.angelpub.com/2011/50/11971/follow-basic.jpg\" style=\"vertical-align: middle;\" />@TheReal_JayDubs</a></p> <p style=\"margin-bottom: 0in;\"><em><span style=\"color: #333333;\">After graduating Cum Laude in finance and economics, Jason designed and analyzed complex projects for the U.S. Army. He made the jump to the private sector as an investment banking analyst at Morgan Stanley, where he eventually led his own team responsible for billions of dollars in daily trading. Jason left Wall Street to found his own investment office and now shares the strategies he used and the network he built with you. Jason is the founder of <a href=\"https://www.angelpub.com/premium-detailed/msv\"><i>Main Street Ventures</i></a>, a pre-IPO investment newsletter, and co-authors <a href=\"https://www.angelpub.com/premium-detailed/qc\">The Wealth Advisory</a> income stock newsletter. He also contributes regularly to <a href=\"https://www.wealthdaily.com/\">Wealth Daily</a>. To learn more about Jason, <a href=\"https://www.wealthdaily.com/editors/jason-williams\" rel=\"noopener\" target=\"_blank\">click here</a>.</span></em></p></p><p>This article originally was published here: <a href=\"https://www.wealthdaily.com/articles/the-next-tesla-taking-the-private-market-by-storm/97737\">https://www.wealthdaily.com/articles/the-next-tesla-taking-the-private-market-by-storm/97737</a></p><br /><br /><a href=\"https://www.wealthdaily.com/articles/the-next-tesla-taking-the-private-market-by-storm/97737\">The Next Tesla Taking The Private Market By Storm</a> originally appeared in <a href=\"https://www.wealthdaily.com\">Wealth Daily</a>. Fortune Favors the Bold<div class=\"feedflare\"> <a href=\"http://feeds.wealthdaily.com/~ff/wealthdaily?a=8vOLmFQTxIk:8O-m1htgjDk:yIl2AUoC8zA\"><img border=\"0\" src=\"http://feeds.feedburner.com/~ff/wealthdaily?d=yIl2AUoC8zA\" /></a> <a href=\"http://feeds.wealthdaily.com/~ff/wealthdaily?a=8vOLmFQTxIk:8O-m1htgjDk:dnMXMwOfBR0\"><img border=\"0\" src=\"http://feeds.feedburner.com/~ff/wealthdaily?d=dnMXMwOfBR0\" /></a> <a href=\"http://feeds.wealthdaily.com/~ff/wealthdaily?a=8vOLmFQTxIk:8O-m1htgjDk:V_sGLiPBpWU\"><img border=\"0\" src=\"http://feeds.feedburner.com/~ff/wealthdaily?i=8vOLmFQTxIk:8O-m1htgjDk:V_sGLiPBpWU\" /></a> <a href=\"http://feeds.wealthdaily.com/~ff/wealthdaily?a=8vOLmFQTxIk:8O-m1htgjDk:F7zBnMyn0Lo\"><img border=\"0\" src=\"http://feeds.feedburner.com/~ff/wealthdaily?i=8vOLmFQTxIk:8O-m1htgjDk:F7zBnMyn0Lo\" /></a> <a href=\"http://feeds.wealthdaily.com/~ff/wealthdaily?a=8vOLmFQTxIk:8O-m1htgjDk:gIN9vFwOqvQ\"><img border=\"0\" src=\"http://feeds.feedburner.com/~ff/wealthdaily?i=8vOLmFQTxIk:8O-m1htgjDk:gIN9vFwOqvQ\" /></a> </div><img alt=\"\" height=\"1\" src=\"http://feeds.feedburner.com/~r/wealthdaily/~4/8vOLmFQTxIk\" width=\"1\" />\"\"\""
   ]
  },
  {
   "source": [
    "cleantext = BeautifulSoup(raw_html, \"lxml\").text #\"html.parser\").text #\"html5lib\").text #\"lxml\").text\n",
    "cleantext"
   ],
   "cell_type": "markdown",
   "metadata": {}
  },
  {
   "cell_type": "code",
   "execution_count": 7,
   "metadata": {},
   "outputs": [],
   "source": [
    "import regex as re\n",
    "def clean_article_html(html_string):\n",
    "\n",
    "    html_string = html_string.replace('<h1', '<h3').replace('</h1>', '</h3>')\n",
    "    # telegram will convert <b> anyway\n",
    "    html_string = re.sub(r'<(/?)b(?=\\s|>)', r'<\\1strong', html_string)\n",
    "    html_string = re.sub(r'<(/?)(h2|h5|h6)', r'<\\1h4', html_string)\n",
    "    # convert telegram embed posts before cleaner\n",
    "    html_string = re.sub(telegram_embed_script_re, r'<iframe src=\"https://t.me/\\1\"></iframe>', html_string)\n",
    "    # remove <head> if present (can't do this with Cleaner)\n",
    "    html_string = header_re.sub('', html_string)\n",
    "\n",
    "    c = Cleaner(\n",
    "        allow_tags=allowed_tags,\n",
    "        style=True,\n",
    "        remove_unknown_tags=False,\n",
    "        embedded=False,\n",
    "        safe_attrs_only=True,\n",
    "        safe_attrs=('src', 'href', 'class')\n",
    "    )\n",
    "    # wrap with div to be sure it is there\n",
    "    # (otherwise lxml will add parent element in some cases\n",
    "    html_string = '<div>%s</div>' % html_string\n",
    "    cleaned = c.clean_html(html_string)\n",
    "    # remove wrapped div\n",
    "    cleaned = cleaned[5:-6]\n",
    "    # remove all line breaks and empty strings\n",
    "    html_string = replace_line_breaks_except_pre(cleaned)\n",
    "    # but replace multiple br tags with one line break, telegraph will convert it to <br class=\"inline\">\n",
    "    html_string = re.sub(r'(<br(/?>|\\s[^<>]*>)\\s*)+', '\\n', html_string)\n",
    "\n",
    "    return html_string.strip(' \\t') "
   ]
  },
  {
   "source": [
    "cleantext = clean_article_html(raw_html)\n",
    "cleantext"
   ],
   "cell_type": "code",
   "metadata": {},
   "execution_count": null,
   "outputs": []
  },
  {
   "cell_type": "code",
   "execution_count": 66,
   "metadata": {},
   "outputs": [
    {
     "output_type": "execute_result",
     "data": {
      "text/plain": [
       "'eps OR earnings OR msci OR etf OR fed OR 5g'"
      ]
     },
     "metadata": {},
     "execution_count": 66
    }
   ],
   "source": [
    "keywords = ' OR '.join(('eps','earnings','msci', 'etf', 'fed', '5g'))\n",
    "keywords"
   ]
  },
  {
   "cell_type": "code",
   "execution_count": 1,
   "metadata": {},
   "outputs": [
    {
     "output_type": "execute_result",
     "data": {
      "text/plain": [
       "'abc-news, news-com, bloomberg, cnn, new-york-magazine, reuters, the-wall-street-journal, google-news, fortune, fox-news, financial-post, business-insider, cnbc, cbs-news, bbc-news, next-big-future, australian-financial-review, next-big-future'"
      ]
     },
     "metadata": {},
     "execution_count": 1
    }
   ],
   "source": [
    "sources= ', '.join(('abc-news','news-com','bloomberg','cnn','new-york-magazine','reuters','the-wall-street-journal','google-news','fortune','fox-news','financial-post','business-insider','cnbc','cbs-news','bbc-news','next-big-future','australian-financial-review','next-big-future'))\n",
    "sources"
   ]
  },
  {
   "cell_type": "code",
   "execution_count": 2,
   "metadata": {},
   "outputs": [
    {
     "output_type": "execute_result",
     "data": {
      "text/plain": [
       "'eps OR earnings OR msci OR etf OR ((solar AND power) OR energy) OR (market AND crash) OR ratings OR (social network) OR bond OR (new AND (high OR low)) OR fed OR 5g OR ipo OR dividend OR (exchange AND dollars) OR vaccine OR (economic AND indicators) OR (electric AND (vehicle OR car))'"
      ]
     },
     "metadata": {},
     "execution_count": 2
    }
   ],
   "source": [
    "keywords = ' OR '.join(('eps','earnings','msci', 'etf', '((solar AND power) OR energy)', '(market AND crash)', 'ratings', '(social network)' , 'bond', '(new AND (high OR low))', 'fed', '5g', 'ipo', 'dividend', '(exchange AND dollars)', 'vaccine', '(economic AND indicators)', '(electric AND (vehicle OR car))'))\n",
    "keywords"
   ]
  },
  {
   "source": [
    "from newsapi import NewsApiClient\n",
    "import pandas as pd\n",
    "\n",
    "api_key= \"112c9b2a21544785ac573f0221cff7ed\" #\"3ce897ffb4bc49bcb5ca9dd364e9a79e\" #or \"112c9b2a21544785ac573f0221cff7ed\"\n",
    "api = NewsApiClient(api_key=api_key)\n",
    "sources='abc-news, news-com, bloomberg, cnn, new-york-magazine, reuters, the-wall-street-journal, google-news, fortune, fox-news, financial-post, business-insider, cnbc,cbs-news, bbc-news, next-big-future, australian-financial-review, next-big-future'\n",
    "#domains='http://www.abc.net.au/news, http://www.news.com.au'\n",
    "page_size=90\n",
    "def get_articles(keyword, from_param='2020-11-26', to='2020-11-27', sort_by='popularity'):\n",
    "    articles = []\n",
    "    top_headlines = api.get_everything(  q=keyword, sources=sources, #domains=domains,\n",
    "            from_param=from_param, to=to, language='en', sort_by=sort_by, page_size=page_size, page=1)\n",
    "\n",
    "    totalResults = top_headlines['totalResults']\n",
    "    articles.extend(top_headlines['articles'])\n",
    "    print(' status={0}\\n totalResults={1}\\n page_size={2}'.format(top_headlines['status'],totalResults,page_size))\n",
    "\n",
    "    #===============================================================\n",
    "    #q, r = divmod( max(totalResults,100) , page_size)  # Assigns q=quotient & r= remainder\n",
    "    #Epochs = (q+1 if r==0 else q) \n",
    "    #===============================================================\n",
    "    #for epoch in range(2, Epochs+2):\n",
    "    #    top_headlines = api.get_everything(  q=keyword, sources=sources, #domains=domains,\n",
    "    #            from_param='2020-10-26', to='2020-11-27', language='en', sort_by='popularity', page_size=page_size, page=epoch)\n",
    "\n",
    "    #    totalResults = top_headlines['totalResults']\n",
    "    #    articles.extend(top_headlines['articles'])\n",
    "    #    print(' status={0}\\n totalResults={1}\\n page_size={2}'.format(top_headlines['status'],totalResults,page_size))\n",
    "\n",
    "    return articles\n",
    "\n",
    "\n",
    "#keywords='interst stock etf msci ipo earning eps'\n",
    "keywords = ' OR '.join(('eps','earnings','((join OR added OR inclusion) AND (index))', '((share OR stock) AND (split OR ipo))', 'etf', '((solar AND power) OR energy)', '(market AND crash)', 'ratings', '(social network)' , 'bond', '(new AND (high OR low))', 'fed', '5g', 'ipo', 'dividend', '(exchange AND dollars)', 'vaccine', '(economic AND indicators)', '(electric AND (vehicle OR car))'))\n",
    "q_news = get_articles(keyword=keywords, from_param='2020-11-27', to='2020-11-27', sort_by='popularity')\n",
    "print(len(q_news))\n",
    "pd.DataFrame(q_news)"
   ],
   "cell_type": "code",
   "metadata": {
    "tags": []
   },
   "execution_count": 6,
   "outputs": [
    {
     "output_type": "stream",
     "name": "stdout",
     "text": [
      " status=ok\n totalResults=556\n page_size=90\n90\n"
     ]
    },
    {
     "output_type": "execute_result",
     "data": {
      "text/plain": [
       "                                  source                              author  \\\n",
       "0           {'id': 'cnn', 'name': 'CNN'}         Opinion by Jeffrey D. Sachs   \n",
       "1           {'id': 'cnn', 'name': 'CNN'}                                None   \n",
       "2           {'id': 'cnn', 'name': 'CNN'}  Maggie Fox and John Bonifield, CNN   \n",
       "3           {'id': 'cnn', 'name': 'CNN'}                  Travis Levius, CNN   \n",
       "4           {'id': 'cnn', 'name': 'CNN'}                      Lesley Kennedy   \n",
       "..                                   ...                                 ...   \n",
       "85  {'id': 'reuters', 'name': 'Reuters'}                       Reuters Staff   \n",
       "86  {'id': 'reuters', 'name': 'Reuters'}                       Reuters Staff   \n",
       "87  {'id': 'reuters', 'name': 'Reuters'}                           Andy Home   \n",
       "88  {'id': 'reuters', 'name': 'Reuters'}                           Andy Home   \n",
       "89  {'id': 'reuters', 'name': 'Reuters'}                           Andy Home   \n",
       "\n",
       "                                                title  \\\n",
       "0   Supreme Court's scientifically illiterate deci...   \n",
       "1   Restaurant owner will mandate vaccine, but is ...   \n",
       "2   CDC Covid-19 vaccine advisers call emergency m...   \n",
       "3   No quarantine necessary: What it's like to vis...   \n",
       "4            The best of Wayfair's Black Friday sales   \n",
       "..                                                ...   \n",
       "85  Bank profitability bigger issue than solvency ...   \n",
       "86  Bank profitability bigger issue than solvency ...   \n",
       "87  Column: Hong Kong is the real loser from new C...   \n",
       "88  Column: Hong Kong is the real loser from new C...   \n",
       "89  Column: Hong Kong is the real loser from new C...   \n",
       "\n",
       "                                          description  \\\n",
       "0   The Supreme Court ruling against New York stat...   \n",
       "1   One Seattle restaurant owner says she plans to...   \n",
       "2   Advisers to the US Centers for Disease Control...   \n",
       "3   The Maldives is one of the few international d...   \n",
       "4   We scoured Wayfair's Black Friday sales, where...   \n",
       "..                                                ...   \n",
       "85  Banks are facing a bigger challenge over their...   \n",
       "86  Banks are facing a bigger challenge over their...   \n",
       "87  Column: Hong Kong is the real loser from new C...   \n",
       "88  Column: Hong Kong is the real loser from new C...   \n",
       "89  Column: Hong Kong is the real loser from new C...   \n",
       "\n",
       "                                                  url  \\\n",
       "0   https://www.cnn.com/2020/11/27/opinions/scient...   \n",
       "1   https://www.cnn.com/videos/health/2020/11/27/r...   \n",
       "2   https://www.cnn.com/2020/11/27/health/acip-cor...   \n",
       "3   https://www.cnn.com/travel/article/holiday-mal...   \n",
       "4   https://www.cnn.com/2020/11/27/cnn-underscored...   \n",
       "..                                                ...   \n",
       "85  https://www.reuters.com/article/uk-france-bank...   \n",
       "86  https://uk.reuters.com/article/uk-france-banki...   \n",
       "87  https://in.reuters.com/article/copper-shfe-aho...   \n",
       "88  https://uk.reuters.com/article/copper-shfe-aho...   \n",
       "89  https://www.reuters.com/article/uk-copper-shfe...   \n",
       "\n",
       "                                           urlToImage           publishedAt  \\\n",
       "0   https://cdn.cnn.com/cnnnext/dam/assets/2011271...  2020-11-27T17:44:03Z   \n",
       "1   https://cdn.cnn.com/cnnnext/dam/assets/2011271...  2020-11-27T21:47:55Z   \n",
       "2   https://cdn.cnn.com/cnnnext/dam/assets/2011241...  2020-11-27T23:52:43Z   \n",
       "3   https://cdn.cnn.com/cnnnext/dam/assets/2009250...  2020-11-27T00:16:47Z   \n",
       "4   https://cdn.cnn.com/cnnnext/dam/assets/2011271...  2020-11-27T17:30:26Z   \n",
       "..                                                ...                   ...   \n",
       "85  https://static.reuters.com/resources/r/?m=02&d...  2020-11-27T08:48:00Z   \n",
       "86  https://static.reuters.com/resources/r/?m=02&d...  2020-11-27T08:48:00Z   \n",
       "87  https://static.reuters.com/resources/r/?m=02&d...  2020-11-27T14:58:00Z   \n",
       "88  https://static.reuters.com/resources/r/?m=02&d...  2020-11-27T14:55:00Z   \n",
       "89  https://static.reuters.com/resources/r/?m=02&d...  2020-11-27T15:01:00Z   \n",
       "\n",
       "                                              content  \n",
       "0   Jeffrey D. Sachs is a professor and director o...  \n",
       "1                                                None  \n",
       "2                                                None  \n",
       "3   Travis Levius, CNNUpdated 27th November 2020\\r...  \n",
       "4   Think Black Friday is all about toys and elect...  \n",
       "..                                                ...  \n",
       "85  By Reuters Staff\\r\\nFILE PHOTO: Governor of th...  \n",
       "86  By Reuters Staff\\r\\nFILE PHOTO: Governor of th...  \n",
       "87  LONDON (Reuters) - Chinas long-awaited interna...  \n",
       "88  LONDON (Reuters) - Chinas long-awaited interna...  \n",
       "89  LONDON (Reuters) - Chinas long-awaited interna...  \n",
       "\n",
       "[90 rows x 8 columns]"
      ],
      "text/html": "<div>\n<style scoped>\n    .dataframe tbody tr th:only-of-type {\n        vertical-align: middle;\n    }\n\n    .dataframe tbody tr th {\n        vertical-align: top;\n    }\n\n    .dataframe thead th {\n        text-align: right;\n    }\n</style>\n<table border=\"1\" class=\"dataframe\">\n  <thead>\n    <tr style=\"text-align: right;\">\n      <th></th>\n      <th>source</th>\n      <th>author</th>\n      <th>title</th>\n      <th>description</th>\n      <th>url</th>\n      <th>urlToImage</th>\n      <th>publishedAt</th>\n      <th>content</th>\n    </tr>\n  </thead>\n  <tbody>\n    <tr>\n      <th>0</th>\n      <td>{'id': 'cnn', 'name': 'CNN'}</td>\n      <td>Opinion by Jeffrey D. Sachs</td>\n      <td>Supreme Court's scientifically illiterate deci...</td>\n      <td>The Supreme Court ruling against New York stat...</td>\n      <td>https://www.cnn.com/2020/11/27/opinions/scient...</td>\n      <td>https://cdn.cnn.com/cnnnext/dam/assets/2011271...</td>\n      <td>2020-11-27T17:44:03Z</td>\n      <td>Jeffrey D. Sachs is a professor and director o...</td>\n    </tr>\n    <tr>\n      <th>1</th>\n      <td>{'id': 'cnn', 'name': 'CNN'}</td>\n      <td>None</td>\n      <td>Restaurant owner will mandate vaccine, but is ...</td>\n      <td>One Seattle restaurant owner says she plans to...</td>\n      <td>https://www.cnn.com/videos/health/2020/11/27/r...</td>\n      <td>https://cdn.cnn.com/cnnnext/dam/assets/2011271...</td>\n      <td>2020-11-27T21:47:55Z</td>\n      <td>None</td>\n    </tr>\n    <tr>\n      <th>2</th>\n      <td>{'id': 'cnn', 'name': 'CNN'}</td>\n      <td>Maggie Fox and John Bonifield, CNN</td>\n      <td>CDC Covid-19 vaccine advisers call emergency m...</td>\n      <td>Advisers to the US Centers for Disease Control...</td>\n      <td>https://www.cnn.com/2020/11/27/health/acip-cor...</td>\n      <td>https://cdn.cnn.com/cnnnext/dam/assets/2011241...</td>\n      <td>2020-11-27T23:52:43Z</td>\n      <td>None</td>\n    </tr>\n    <tr>\n      <th>3</th>\n      <td>{'id': 'cnn', 'name': 'CNN'}</td>\n      <td>Travis Levius, CNN</td>\n      <td>No quarantine necessary: What it's like to vis...</td>\n      <td>The Maldives is one of the few international d...</td>\n      <td>https://www.cnn.com/travel/article/holiday-mal...</td>\n      <td>https://cdn.cnn.com/cnnnext/dam/assets/2009250...</td>\n      <td>2020-11-27T00:16:47Z</td>\n      <td>Travis Levius, CNNUpdated 27th November 2020\\r...</td>\n    </tr>\n    <tr>\n      <th>4</th>\n      <td>{'id': 'cnn', 'name': 'CNN'}</td>\n      <td>Lesley Kennedy</td>\n      <td>The best of Wayfair's Black Friday sales</td>\n      <td>We scoured Wayfair's Black Friday sales, where...</td>\n      <td>https://www.cnn.com/2020/11/27/cnn-underscored...</td>\n      <td>https://cdn.cnn.com/cnnnext/dam/assets/2011271...</td>\n      <td>2020-11-27T17:30:26Z</td>\n      <td>Think Black Friday is all about toys and elect...</td>\n    </tr>\n    <tr>\n      <th>...</th>\n      <td>...</td>\n      <td>...</td>\n      <td>...</td>\n      <td>...</td>\n      <td>...</td>\n      <td>...</td>\n      <td>...</td>\n      <td>...</td>\n    </tr>\n    <tr>\n      <th>85</th>\n      <td>{'id': 'reuters', 'name': 'Reuters'}</td>\n      <td>Reuters Staff</td>\n      <td>Bank profitability bigger issue than solvency ...</td>\n      <td>Banks are facing a bigger challenge over their...</td>\n      <td>https://www.reuters.com/article/uk-france-bank...</td>\n      <td>https://static.reuters.com/resources/r/?m=02&amp;d...</td>\n      <td>2020-11-27T08:48:00Z</td>\n      <td>By Reuters Staff\\r\\nFILE PHOTO: Governor of th...</td>\n    </tr>\n    <tr>\n      <th>86</th>\n      <td>{'id': 'reuters', 'name': 'Reuters'}</td>\n      <td>Reuters Staff</td>\n      <td>Bank profitability bigger issue than solvency ...</td>\n      <td>Banks are facing a bigger challenge over their...</td>\n      <td>https://uk.reuters.com/article/uk-france-banki...</td>\n      <td>https://static.reuters.com/resources/r/?m=02&amp;d...</td>\n      <td>2020-11-27T08:48:00Z</td>\n      <td>By Reuters Staff\\r\\nFILE PHOTO: Governor of th...</td>\n    </tr>\n    <tr>\n      <th>87</th>\n      <td>{'id': 'reuters', 'name': 'Reuters'}</td>\n      <td>Andy Home</td>\n      <td>Column: Hong Kong is the real loser from new C...</td>\n      <td>Column: Hong Kong is the real loser from new C...</td>\n      <td>https://in.reuters.com/article/copper-shfe-aho...</td>\n      <td>https://static.reuters.com/resources/r/?m=02&amp;d...</td>\n      <td>2020-11-27T14:58:00Z</td>\n      <td>LONDON (Reuters) - Chinas long-awaited interna...</td>\n    </tr>\n    <tr>\n      <th>88</th>\n      <td>{'id': 'reuters', 'name': 'Reuters'}</td>\n      <td>Andy Home</td>\n      <td>Column: Hong Kong is the real loser from new C...</td>\n      <td>Column: Hong Kong is the real loser from new C...</td>\n      <td>https://uk.reuters.com/article/copper-shfe-aho...</td>\n      <td>https://static.reuters.com/resources/r/?m=02&amp;d...</td>\n      <td>2020-11-27T14:55:00Z</td>\n      <td>LONDON (Reuters) - Chinas long-awaited interna...</td>\n    </tr>\n    <tr>\n      <th>89</th>\n      <td>{'id': 'reuters', 'name': 'Reuters'}</td>\n      <td>Andy Home</td>\n      <td>Column: Hong Kong is the real loser from new C...</td>\n      <td>Column: Hong Kong is the real loser from new C...</td>\n      <td>https://www.reuters.com/article/uk-copper-shfe...</td>\n      <td>https://static.reuters.com/resources/r/?m=02&amp;d...</td>\n      <td>2020-11-27T15:01:00Z</td>\n      <td>LONDON (Reuters) - Chinas long-awaited interna...</td>\n    </tr>\n  </tbody>\n</table>\n<p>90 rows × 8 columns</p>\n</div>"
     },
     "metadata": {},
     "execution_count": 6
    }
   ]
  },
  {
   "source": [
    "tl = [ a['title'] for a in q_news ]\n",
    "url_ = [ a['url'] for a in q_news ]\n",
    "img_ = [ a['urlToImage'] for a in q_news ]\n",
    "au = [ a['title'] for a in q_news ]\n",
    "ds = [ a['description'] for a in q_news ]\n",
    "pb = [ a['publishedAt'] for a in q_news ]\n",
    "ct = [ a['content'] for a in q_news ]\n",
    "sc_ = [ a['source']['id'] for a in q_news ]\n",
    "sc = [ a['source']['name'] for a in q_news ]"
   ],
   "cell_type": "code",
   "metadata": {},
   "execution_count": null,
   "outputs": []
  },
  {
   "cell_type": "code",
   "execution_count": null,
   "metadata": {},
   "outputs": [],
   "source": []
  },
  {
   "cell_type": "code",
   "execution_count": 14,
   "metadata": {},
   "outputs": [],
   "source": [
    "from newsapi import NewsApiClient\n",
    "from pandas.io.json import json_normalize\n",
    "import pandas as pd\n",
    "from bs4 import BeautifulSoup"
   ]
  },
  {
   "cell_type": "code",
   "execution_count": 13,
   "metadata": {},
   "outputs": [],
   "source": [
    "newsapi = NewsApiClient(api_key=\"112c9b2a21544785ac573f0221cff7ed\") # \"3ce897ffb4bc49bcb5ca9dd364e9a79e\")"
   ]
  },
  {
   "cell_type": "code",
   "execution_count": 15,
   "metadata": {},
   "outputs": [],
   "source": [
    "def top_headlines():    \n",
    "   country=input(\"Which country are you interested in?\") \n",
    "   category=input(\"\"\"Which category are you interested in? \\nHere \n",
    "   are the categories to choose from:\\nbusiness\\nentertainment   \n",
    "   \\ngeneral\\nhealth\\nscience\\ntechnology\"\"\")        \n",
    "   top_headlines =newsapi.get_top_headlines(category=category,\n",
    "   language='en',country=country)     \n",
    "   top_headlines=json_normalize(top_headlines['articles'])   \n",
    "   newdf=top_headlines[[\"title\",\"url\"]]    \n",
    "   dic=newdf.set_index('title')['url'].to_dict()"
   ]
  },
  {
   "cell_type": "code",
   "execution_count": null,
   "metadata": {},
   "outputs": [],
   "source": [
    "sources='abc-news, news-com, bloomberg, cnn, new-york-magazine, reuters, the-wall-street-journal, google-news, fortune, fox-news, financial-post, business-insider, cnbc,cbs-news, bbc-news, next-big-future, australian-financial-review, next-big-future'\n",
    "articles_page = get_everything(query,language='en',sources=sources,sort_by='popularity',from_param=='2020-10-27',to='2020-11-26', page_size=50)"
   ]
  },
  {
   "cell_type": "code",
   "execution_count": 16,
   "metadata": {},
   "outputs": [],
   "source": [
    "import datetime\n",
    "from datetime import datetime, timedelta\n",
    "def date(base):    \n",
    "    date_list=[]    \n",
    "    yr=datetime.today().year    \n",
    "    if (yr%400)==0 or ((yr%100!=0) and (yr%4==0)):          \n",
    "        numdays=366        \n",
    "        date_list.append([base - timedelta(days=x) for x in    \n",
    "        range(366)])   \n",
    "    else:        \n",
    "        numdays=365        \n",
    "        date_list.append([base - timedelta(days=x) for x in    \n",
    "        range(365)])    \n",
    "        newlist=[]    \n",
    "        for i in date_list:        \n",
    "           for j in sorted(i):            \n",
    "               newlist.append(j)    \n",
    "        return newlist \n",
    "def last_30(base):     \n",
    "    date_list=[base - timedelta(days=x) for x in range(30)]      \n",
    "    return sorted(date_list)  \n",
    "def from_dt(x):    \n",
    "    from_dt=[]    \n",
    "    for i in range(len(x)):          \n",
    "        from_dt.append(last_30(datetime.today())[i-1].date())         \n",
    "    return from_dt        \n",
    "def to_dt(x):    \n",
    "    to_dt=[]    \n",
    "    for i in range(len(x)):        \n",
    "        to_dt.append(last_30(datetime.today())[i].date())    \n",
    "    return to_dt\n",
    "from_list=from_dt(last_30(datetime.today()))\n",
    "to_list=to_dt(last_30(datetime.today()))"
   ]
  },
  {
   "cell_type": "code",
   "execution_count": 17,
   "metadata": {},
   "outputs": [
    {
     "output_type": "error",
     "ename": "SyntaxError",
     "evalue": "invalid syntax (<ipython-input-17-35dc95770c3a>, line 5)",
     "traceback": [
      "\u001b[1;36m  File \u001b[1;32m\"<ipython-input-17-35dc95770c3a>\"\u001b[1;36m, line \u001b[1;32m5\u001b[0m\n\u001b[1;33m    all_articles =\u001b[0m\n\u001b[1;37m                     ^\u001b[0m\n\u001b[1;31mSyntaxError\u001b[0m\u001b[1;31m:\u001b[0m invalid syntax\n"
     ]
    }
   ],
   "source": [
    "def func(query): \n",
    "    newd={}    \n",
    "    newdf=pd.DataFrame()    \n",
    "    for (from_dt,to_dt) in zip(from_list,to_list):           \n",
    "        all_articles =   \n",
    "        newsapi.get_everything(q=query,language='en',\n",
    "        sort_by='relevancy',from_param=from_dt,to=to_dt)          \n",
    "        d=json_normalize(all_articles['articles'])         \n",
    "        newdf=d[[\"url\",\"publishedAt\",\"source.name\",\"author\"]]\n",
    "        dic=newdf.set_index([\"source.name\",\"publishedAt\",\"author\"]) \n",
    "        [\"url\"].to_dict()        \n",
    "        for (k,v) in dic.items():            \n",
    "            page = requests.get(v)            \n",
    "            html = page.content            \n",
    "            soup = BeautifulSoup(html, \"lxml\")            \n",
    "            text = soup.get_text()            \n",
    "            d2=soup.find_all(\"p\")            \n",
    "            newd[k]=re.sub(r'<.+?>',r'',str(d2))     \n",
    "    return newd"
   ]
  },
  {
   "cell_type": "code",
   "execution_count": null,
   "metadata": {},
   "outputs": [],
   "source": [
    "def wordcld(dictionary):        \n",
    "    newd={}    \n",
    "    for (k,v) in dictionary.items():        \n",
    "    if v!='[]':            \n",
    "        wordcloud = WordCloud().generate(str(dictionary[k]))                \n",
    "        fig, axes= plt.subplots(figsize=(20,12),clear=True)                     \n",
    "        plt.imshow(wordcloud, interpolation='bilinear')            \n",
    "        plt.show()                 \n",
    "    else:            \n",
    "        print(str(k[0])+\"_\"+str(k[1][5:10])+\"_\"+str(k[1][11:13])              \n",
    "        +\"_\"+str(k[1][14:16]) +\"_\"+str(k[1][17:19])+\"_\"+str(k[2]))             \n",
    "        print(\"Wordcloud Not applicable\")\n",
    "dic=func(\"Indian Economy\")\n",
    "wordcld(dic)"
   ]
  }
 ]
}