{
 "cells": [
  {
   "cell_type": "code",
   "execution_count": 18,
   "metadata": {},
   "outputs": [],
   "source": [
    "import requests\r\n",
    "import json\r\n",
    "import pprint\r\n",
    "import pandas as pd \r\n",
    "import os\r\n",
    "import newsapi\r\n",
    "import matplotlib.pyplot as plt\r\n",
    "import seaborn as sns"
   ]
  },
  {
   "cell_type": "code",
   "execution_count": 19,
   "metadata": {},
   "outputs": [],
   "source": [
    "from newsapi import NewsApiClient\r\n",
    "api_key = 'ca3e3bf276f44abbbf5e78402fe42202'\r\n",
    "api = NewsApiClient(api_key=api_key)"
   ]
  },
  {
   "cell_type": "code",
   "execution_count": 36,
   "metadata": {},
   "outputs": [
    {
     "data": {
      "text/html": "<div>\n<style scoped>\n    .dataframe tbody tr th:only-of-type {\n        vertical-align: middle;\n    }\n\n    .dataframe tbody tr th {\n        vertical-align: top;\n    }\n\n    .dataframe thead th {\n        text-align: right;\n    }\n</style>\n<table border=\"1\" class=\"dataframe\">\n  <thead>\n    <tr style=\"text-align: right;\">\n      <th></th>\n      <th>source</th>\n      <th>author</th>\n      <th>title</th>\n      <th>description</th>\n      <th>url</th>\n      <th>urlToImage</th>\n      <th>publishedAt</th>\n      <th>content</th>\n    </tr>\n  </thead>\n  <tbody>\n    <tr>\n      <th>0</th>\n      <td>{'id': 'reuters', 'name': 'Reuters'}</td>\n      <td>Reuters Editorial</td>\n      <td>Breakingviews TV: IPO riches - Reuters.com</td>\n      <td>Tech listings have uncorked too much of a good...</td>\n      <td>https://www.reuters.com/video/watch/idRCV0094A9</td>\n      <td>https://static.reuters.com/resources/r/?d=2020...</td>\n      <td>2020-12-15T19:26:56Z</td>\n      <td>Posted \\r\\nTech listings have uncorked too muc...</td>\n    </tr>\n    <tr>\n      <th>1</th>\n      <td>{'id': 'reuters', 'name': 'Reuters'}</td>\n      <td>Joshua Franklin, Chibuike Oguh</td>\n      <td>Airbnb prices IPO above target in 2020's bigge...</td>\n      <td>Airbnb Inc on Wednesday sold shares in its ini...</td>\n      <td>https://www.reuters.com/article/us-airbnb-ipo-...</td>\n      <td>https://static.reuters.com/resources/r/?m=02&amp;d...</td>\n      <td>2020-12-09T23:50:00Z</td>\n      <td>FILE PHOTO: Small toy figures are seen in fron...</td>\n    </tr>\n  </tbody>\n</table>\n</div>",
      "text/plain": "                                 source                          author  \\\n0  {'id': 'reuters', 'name': 'Reuters'}               Reuters Editorial   \n1  {'id': 'reuters', 'name': 'Reuters'}  Joshua Franklin, Chibuike Oguh   \n\n                                               title  \\\n0         Breakingviews TV: IPO riches - Reuters.com   \n1  Airbnb prices IPO above target in 2020's bigge...   \n\n                                         description  \\\n0  Tech listings have uncorked too much of a good...   \n1  Airbnb Inc on Wednesday sold shares in its ini...   \n\n                                                 url  \\\n0    https://www.reuters.com/video/watch/idRCV0094A9   \n1  https://www.reuters.com/article/us-airbnb-ipo-...   \n\n                                          urlToImage           publishedAt  \\\n0  https://static.reuters.com/resources/r/?d=2020...  2020-12-15T19:26:56Z   \n1  https://static.reuters.com/resources/r/?m=02&d...  2020-12-09T23:50:00Z   \n\n                                             content  \n0  Posted \\r\\nTech listings have uncorked too muc...  \n1  FILE PHOTO: Small toy figures are seen in fron...  "
     },
     "execution_count": 36,
     "metadata": {},
     "output_type": "execute_result"
    }
   ],
   "source": [
    "# instantiate an article object\r\n",
    "keywords='ipo'\r\n",
    "sources= \"bbc-news,bloomberg,reuters\"\r\n",
    "start_time= '2020-12-01'\r\n",
    "end_time= '2020-12-23'\r\n",
    "language='en'\r\n",
    "sort_by='popularity'    # sort_by='top'\r\n",
    "page_size=100\r\n",
    "top_headlines = api.get_everything(qintitle=keywords, sources=sources, #domains=domains,\r\n",
    "            from_param=start_time, to=end_time, language=language, sort_by=sort_by, page_size=page_size, page=1)\r\n",
    "news = top_headlines['articles']\r\n",
    "#api.get(source=\"bbc-news\")\r\n",
    "df = pd.DataFrame(news)\r\n",
    "df.head(2)"
   ]
  },
  {
   "cell_type": "code",
   "execution_count": 34,
   "metadata": {},
   "outputs": [],
   "source": [
    "A= news\r\n",
    "tl =[a['title'] for a in A]\r\n",
    "tl_=['' if 'url' not in list(a) else a['url'] for a in A]\r\n",
    "ds =[None if ('description' not in list(a)) else a['description'] for a in A]\r\n",
    "ds_=tl_\r\n",
    "sc =[None if ('source' not in list(a)) else a['source']['name'] for a in A]\r\n",
    "sc_=tl_\r\n",
    "ct =[None if ('content' not in list(a)) else a['content'] for a in A]\r\n",
    "ct_=['' if ('content' not in list(a)) else a['content'] for a in A]\r\n",
    "im_=['' if ('urlToImage' not in list(a)) else a['urlToImage'] for a in A]\r\n",
    "au =[None if ('author' not in list(a)) else a['author'] for a in A]"
   ]
  },
  {
   "cell_type": "code",
   "execution_count": 37,
   "metadata": {},
   "outputs": [
    {
     "data": {
      "text/plain": "['Breakingviews TV: IPO riches - Reuters.com',\n \"Airbnb prices IPO above target in 2020's biggest U.S. IPO -source - Reuters\",\n \"UPDATE 1-Airbnb prices IPO above target in 2020's biggest U.S. IPO -source - Reuters India\",\n 'Airbnb boosts IPO price range - Reuters',\n 'Airbnb boosts IPO price range - Reuters']"
     },
     "execution_count": 37,
     "metadata": {},
     "output_type": "execute_result"
    }
   ],
   "source": [
    "tl[:5]"
   ]
  },
  {
   "cell_type": "code",
   "execution_count": null,
   "metadata": {},
   "outputs": [],
   "source": []
  }
 ],
 "metadata": {
  "kernelspec": {
   "display_name": "Python 3",
   "name": "python3"
  },
  "language_info": {
   "codemirror_mode": {
    "name": "ipython",
    "version": 3
   },
   "file_extension": ".py",
   "mimetype": "text/x-python",
   "name": "python",
   "nbconvert_exporter": "python",
   "pygments_lexer": "ipython3",
   "version": "3.8.5"
  },
  "orig_nbformat": 2
 },
 "nbformat": 4,
 "nbformat_minor": 2
}