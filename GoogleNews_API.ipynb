{
 "cells": [
  {
   "cell_type": "markdown",
   "metadata": {},
   "source": [
    "!pip install GoogleNews\r\n",
    "!pip install newspaper3k"
   ]
  },
  {
   "cell_type": "code",
   "execution_count": 2,
   "metadata": {},
   "outputs": [],
   "source": [
    "from GoogleNews import GoogleNews\r\n",
    "from newspaper import Article\r\n",
    "from newspaper import Config\r\n",
    "import pandas as pd\r\n",
    "import nltk"
   ]
  },
  {
   "cell_type": "code",
   "execution_count": 3,
   "metadata": {},
   "outputs": [
    {
     "name": "stderr",
     "output_type": "stream",
     "text": [
      "[nltk_data] Downloading package punkt to\n",
      "[nltk_data]     C:\\Users\\jack5\\AppData\\Roaming\\nltk_data...\n",
      "[nltk_data]   Package punkt is already up-to-date!\n"
     ]
    }
   ],
   "source": [
    "#config will allow us to access the specified url for which we are #not authorized. Sometimes we may get 403 client error while parsing #the link to download the article.\r\n",
    "nltk.download('punkt')\r\n",
    "\r\n",
    "user_agent = 'Mozilla/5.0 (Macintosh; Intel Mac OS X 10_11_5) AppleWebKit/537.36 (KHTML, like Gecko) Chrome/50.0.2661.102 Safari/537.36'\r\n",
    "config = Config()\r\n",
    "config.browser_user_agent = user_agent"
   ]
  },
  {
   "cell_type": "code",
   "execution_count": 4,
   "metadata": {},
   "outputs": [
    {
     "data": {
      "text/plain": "[{'title': 'Samsung-TSMC rivalry heats up as US cracks down on Huawei',\n  'media': 'Nikkei Asian Review',\n  'date': '2020年5月26日',\n  'datetime': datetime.datetime(2020, 5, 26, 0, 0),\n  'desc': 'Samsung announced on Thursday that it is building new production lines in Pyeongtaek, south of Seoul, to mass produce 5-nanometer chips from the second half ...',\n  'link': 'https://asia.nikkei.com/Spotlight/Huawei-crackdown/Samsung-TSMC-rivalry-heats-up-as-US-cracks-down-on-Huawei',\n  'img': 'data:image/gif;base64,R0lGODlhAQABAIAAAP///////yH5BAEKAAEALAAAAAABAAEAAAICTAEAOw=='},\n {'title': 'Huawei Ban Intensifies Competition Between Samsung And ...',\n  'media': 'ChannelNews',\n  'date': '2020年5月27日',\n  'datetime': datetime.datetime(2020, 5, 27, 0, 0),\n  'desc': '(TSMC) in the processing chips industry. Following the ban, Samsung has moved quickly to fill the void in suppliers, building new production lines in Pyeongtaek ...',\n  'link': 'https://www.channelnews.com.au/huawei-ban-intensifies-competition-between-samsung-and-tsmc/',\n  'img': 'data:image/gif;base64,R0lGODlhAQABAIAAAP///////yH5BAEKAAEALAAAAAABAAEAAAICTAEAOw=='}]"
     },
     "execution_count": 4,
     "metadata": {},
     "output_type": "execute_result"
    }
   ],
   "source": [
    "googlenews=GoogleNews(start='05/01/2020',end='12/23/2020')\r\n",
    "googlenews.search('(tsmc AND huawei) AND (三星)') #('Coronavirus')\r\n",
    "result=googlenews.result()\r\n",
    "from newspaper.api import languages\r\n",
    "result[:2]"
   ]
  },
  {
   "cell_type": "code",
   "execution_count": 5,
   "metadata": {},
   "outputs": [
    {
     "data": {
      "text/html": "<div>\n<style scoped>\n    .dataframe tbody tr th:only-of-type {\n        vertical-align: middle;\n    }\n\n    .dataframe tbody tr th {\n        vertical-align: top;\n    }\n\n    .dataframe thead th {\n        text-align: right;\n    }\n</style>\n<table border=\"1\" class=\"dataframe\">\n  <thead>\n    <tr style=\"text-align: right;\">\n      <th></th>\n      <th>title</th>\n      <th>media</th>\n      <th>date</th>\n      <th>datetime</th>\n      <th>desc</th>\n      <th>link</th>\n      <th>img</th>\n    </tr>\n  </thead>\n  <tbody>\n    <tr>\n      <th>0</th>\n      <td>Samsung-TSMC rivalry heats up as US cracks dow...</td>\n      <td>Nikkei Asian Review</td>\n      <td>2020年5月26日</td>\n      <td>2020-05-26</td>\n      <td>Samsung announced on Thursday that it is build...</td>\n      <td>https://asia.nikkei.com/Spotlight/Huawei-crack...</td>\n      <td>data:image/gif;base64,R0lGODlhAQABAIAAAP//////...</td>\n    </tr>\n    <tr>\n      <th>1</th>\n      <td>Huawei Ban Intensifies Competition Between Sam...</td>\n      <td>ChannelNews</td>\n      <td>2020年5月27日</td>\n      <td>2020-05-27</td>\n      <td>(TSMC) in the processing chips industry. Follo...</td>\n      <td>https://www.channelnews.com.au/huawei-ban-inte...</td>\n      <td>data:image/gif;base64,R0lGODlhAQABAIAAAP//////...</td>\n    </tr>\n  </tbody>\n</table>\n</div>",
      "text/plain": "                                               title                media  \\\n0  Samsung-TSMC rivalry heats up as US cracks dow...  Nikkei Asian Review   \n1  Huawei Ban Intensifies Competition Between Sam...          ChannelNews   \n\n         date   datetime                                               desc  \\\n0  2020年5月26日 2020-05-26  Samsung announced on Thursday that it is build...   \n1  2020年5月27日 2020-05-27  (TSMC) in the processing chips industry. Follo...   \n\n                                                link  \\\n0  https://asia.nikkei.com/Spotlight/Huawei-crack...   \n1  https://www.channelnews.com.au/huawei-ban-inte...   \n\n                                                 img  \n0  data:image/gif;base64,R0lGODlhAQABAIAAAP//////...  \n1  data:image/gif;base64,R0lGODlhAQABAIAAAP//////...  "
     },
     "execution_count": 5,
     "metadata": {},
     "output_type": "execute_result"
    }
   ],
   "source": [
    "df=pd.DataFrame(result)\r\n",
    "df.head(2)"
   ]
  },
  {
   "cell_type": "code",
   "execution_count": 9,
   "metadata": {},
   "outputs": [
    {
     "name": "stdout",
     "output_type": "stream",
     "text": [
      "Samsung-TSMC rivalry heats up as US cracks down on Huawei\n",
      "Samsung-TSMC rivalry heats up as US cracks down on Huawei\n",
      "Samsung-TSMC rivalry heats up as US cracks down on Huawei\n",
      "Samsung-TSMC rivalry heats up as US cracks down on Huawei\n",
      "Samsung-TSMC rivalry heats up as US cracks down on Huawei\n",
      "Samsung-TSMC rivalry heats up as US cracks down on Huawei\n",
      "Samsung-TSMC rivalry heats up as US cracks down on Huawei\n",
      "Samsung-TSMC rivalry heats up as US cracks down on Huawei\n",
      "Samsung-TSMC rivalry heats up as US cracks down on Huawei\n",
      "Samsung-TSMC rivalry heats up as US cracks down on Huawei\n",
      "Samsung-TSMC rivalry heats up as US cracks down on Huawei\n",
      "Samsung-TSMC rivalry heats up as US cracks down on Huawei\n",
      "Samsung-TSMC rivalry heats up as US cracks down on Huawei\n",
      "Samsung-TSMC rivalry heats up as US cracks down on Huawei\n",
      "Samsung-TSMC rivalry heats up as US cracks down on Huawei\n",
      "Samsung-TSMC rivalry heats up as US cracks down on Huawei\n",
      "Samsung-TSMC rivalry heats up as US cracks down on Huawei\n",
      "Samsung-TSMC rivalry heats up as US cracks down on Huawei\n"
     ]
    },
    {
     "data": {
      "text/html": "<div>\n<style scoped>\n    .dataframe tbody tr th:only-of-type {\n        vertical-align: middle;\n    }\n\n    .dataframe tbody tr th {\n        vertical-align: top;\n    }\n\n    .dataframe thead th {\n        text-align: right;\n    }\n</style>\n<table border=\"1\" class=\"dataframe\">\n  <thead>\n    <tr style=\"text-align: right;\">\n      <th></th>\n      <th>title</th>\n      <th>media</th>\n      <th>date</th>\n      <th>datetime</th>\n      <th>desc</th>\n      <th>link</th>\n      <th>img</th>\n    </tr>\n  </thead>\n  <tbody>\n    <tr>\n      <th>0</th>\n      <td>Samsung-TSMC rivalry heats up as US cracks dow...</td>\n      <td>Nikkei Asian Review</td>\n      <td>2020年5月26日</td>\n      <td>2020-05-26</td>\n      <td>Samsung announced on Thursday that it is build...</td>\n      <td>https://asia.nikkei.com/Spotlight/Huawei-crack...</td>\n      <td>data:image/gif;base64,R0lGODlhAQABAIAAAP//////...</td>\n    </tr>\n    <tr>\n      <th>1</th>\n      <td>Huawei Ban Intensifies Competition Between Sam...</td>\n      <td>ChannelNews</td>\n      <td>2020年5月27日</td>\n      <td>2020-05-27</td>\n      <td>(TSMC) in the processing chips industry. Follo...</td>\n      <td>https://www.channelnews.com.au/huawei-ban-inte...</td>\n      <td>data:image/gif;base64,R0lGODlhAQABAIAAAP//////...</td>\n    </tr>\n  </tbody>\n</table>\n</div>",
      "text/plain": "                                               title                media  \\\n0  Samsung-TSMC rivalry heats up as US cracks dow...  Nikkei Asian Review   \n1  Huawei Ban Intensifies Competition Between Sam...          ChannelNews   \n\n         date   datetime                                               desc  \\\n0  2020年5月26日 2020-05-26  Samsung announced on Thursday that it is build...   \n1  2020年5月27日 2020-05-27  (TSMC) in the processing chips industry. Follo...   \n\n                                                link  \\\n0  https://asia.nikkei.com/Spotlight/Huawei-crack...   \n1  https://www.channelnews.com.au/huawei-ban-inte...   \n\n                                                 img  \n0  data:image/gif;base64,R0lGODlhAQABAIAAAP//////...  \n1  data:image/gif;base64,R0lGODlhAQABAIAAAP//////...  "
     },
     "execution_count": 9,
     "metadata": {},
     "output_type": "execute_result"
    }
   ],
   "source": [
    "for i in range(2,20):\r\n",
    "    googlenews.getpage(i)\r\n",
    "    result=googlenews.result()\r\n",
    "    df=pd.DataFrame(result)\r\n",
    "    print(df['title'][0])\r\n",
    "df.head(2)"
   ]
  },
  {
   "cell_type": "code",
   "execution_count": 14,
   "metadata": {},
   "outputs": [],
   "source": [
    "article = Article(df['link'][0],config=config)\r\n",
    "article.download()"
   ]
  },
  {
   "cell_type": "code",
   "execution_count": 16,
   "metadata": {},
   "outputs": [],
   "source": [
    "article.parse()\r\n",
    "article.nlp()"
   ]
  },
  {
   "cell_type": "code",
   "execution_count": 17,
   "metadata": {},
   "outputs": [
    {
     "data": {
      "text/plain": "<newspaper.article.Article at 0x28f9b89e8b0>"
     },
     "execution_count": 17,
     "metadata": {},
     "output_type": "execute_result"
    }
   ],
   "source": [
    "article"
   ]
  },
  {
   "cell_type": "code",
   "execution_count": 8,
   "metadata": {},
   "outputs": [
    {
     "ename": "ArticleException",
     "evalue": "Article `download()` failed with HTTPSConnectionPool(host='www.eetimes.com', port=443): Read timed out. (read timeout=7) on URL https://www.eetimes.com/chip-equipment-becomes-trade-wars-latest-battlefield/",
     "output_type": "error",
     "traceback": [
      "\u001b[1;31m---------------------------------------------------------------------------\u001b[0m",
      "\u001b[1;31mArticleException\u001b[0m                          Traceback (most recent call last)",
      "\u001b[1;32m<ipython-input-8-8d1628bcb252>\u001b[0m in \u001b[0;36m<module>\u001b[1;34m\u001b[0m\n\u001b[0;32m      4\u001b[0m     \u001b[0marticle\u001b[0m \u001b[1;33m=\u001b[0m \u001b[0mArticle\u001b[0m\u001b[1;33m(\u001b[0m\u001b[0mdf\u001b[0m\u001b[1;33m[\u001b[0m\u001b[1;34m'link'\u001b[0m\u001b[1;33m]\u001b[0m\u001b[1;33m[\u001b[0m\u001b[0mind\u001b[0m\u001b[1;33m]\u001b[0m\u001b[1;33m,\u001b[0m\u001b[0mconfig\u001b[0m\u001b[1;33m=\u001b[0m\u001b[0mconfig\u001b[0m\u001b[1;33m)\u001b[0m\u001b[1;33m\u001b[0m\u001b[1;33m\u001b[0m\u001b[0m\n\u001b[0;32m      5\u001b[0m     \u001b[0marticle\u001b[0m\u001b[1;33m.\u001b[0m\u001b[0mdownload\u001b[0m\u001b[1;33m(\u001b[0m\u001b[1;33m)\u001b[0m\u001b[1;33m\u001b[0m\u001b[1;33m\u001b[0m\u001b[0m\n\u001b[1;32m----> 6\u001b[1;33m     \u001b[0marticle\u001b[0m\u001b[1;33m.\u001b[0m\u001b[0mparse\u001b[0m\u001b[1;33m(\u001b[0m\u001b[1;33m)\u001b[0m\u001b[1;33m\u001b[0m\u001b[1;33m\u001b[0m\u001b[0m\n\u001b[0m\u001b[0;32m      7\u001b[0m     \u001b[0marticle\u001b[0m\u001b[1;33m.\u001b[0m\u001b[0mnlp\u001b[0m\u001b[1;33m(\u001b[0m\u001b[1;33m)\u001b[0m\u001b[1;33m\u001b[0m\u001b[1;33m\u001b[0m\u001b[0m\n\u001b[0;32m      8\u001b[0m     \u001b[0mdict\u001b[0m\u001b[1;33m[\u001b[0m\u001b[1;34m'Date'\u001b[0m\u001b[1;33m]\u001b[0m\u001b[1;33m=\u001b[0m\u001b[0mdf\u001b[0m\u001b[1;33m[\u001b[0m\u001b[1;34m'date'\u001b[0m\u001b[1;33m]\u001b[0m\u001b[1;33m[\u001b[0m\u001b[0mind\u001b[0m\u001b[1;33m]\u001b[0m\u001b[1;33m\u001b[0m\u001b[1;33m\u001b[0m\u001b[0m\n",
      "\u001b[1;32mC:\\anaconda3\\lib\\site-packages\\newspaper\\article.py\u001b[0m in \u001b[0;36mparse\u001b[1;34m(self)\u001b[0m\n\u001b[0;32m    189\u001b[0m \u001b[1;33m\u001b[0m\u001b[0m\n\u001b[0;32m    190\u001b[0m     \u001b[1;32mdef\u001b[0m \u001b[0mparse\u001b[0m\u001b[1;33m(\u001b[0m\u001b[0mself\u001b[0m\u001b[1;33m)\u001b[0m\u001b[1;33m:\u001b[0m\u001b[1;33m\u001b[0m\u001b[1;33m\u001b[0m\u001b[0m\n\u001b[1;32m--> 191\u001b[1;33m         \u001b[0mself\u001b[0m\u001b[1;33m.\u001b[0m\u001b[0mthrow_if_not_downloaded_verbose\u001b[0m\u001b[1;33m(\u001b[0m\u001b[1;33m)\u001b[0m\u001b[1;33m\u001b[0m\u001b[1;33m\u001b[0m\u001b[0m\n\u001b[0m\u001b[0;32m    192\u001b[0m \u001b[1;33m\u001b[0m\u001b[0m\n\u001b[0;32m    193\u001b[0m         \u001b[0mself\u001b[0m\u001b[1;33m.\u001b[0m\u001b[0mdoc\u001b[0m \u001b[1;33m=\u001b[0m \u001b[0mself\u001b[0m\u001b[1;33m.\u001b[0m\u001b[0mconfig\u001b[0m\u001b[1;33m.\u001b[0m\u001b[0mget_parser\u001b[0m\u001b[1;33m(\u001b[0m\u001b[1;33m)\u001b[0m\u001b[1;33m.\u001b[0m\u001b[0mfromstring\u001b[0m\u001b[1;33m(\u001b[0m\u001b[0mself\u001b[0m\u001b[1;33m.\u001b[0m\u001b[0mhtml\u001b[0m\u001b[1;33m)\u001b[0m\u001b[1;33m\u001b[0m\u001b[1;33m\u001b[0m\u001b[0m\n",
      "\u001b[1;32mC:\\anaconda3\\lib\\site-packages\\newspaper\\article.py\u001b[0m in \u001b[0;36mthrow_if_not_downloaded_verbose\u001b[1;34m(self)\u001b[0m\n\u001b[0;32m    529\u001b[0m             \u001b[1;32mraise\u001b[0m \u001b[0mArticleException\u001b[0m\u001b[1;33m(\u001b[0m\u001b[1;34m'You must `download()` an article first!'\u001b[0m\u001b[1;33m)\u001b[0m\u001b[1;33m\u001b[0m\u001b[1;33m\u001b[0m\u001b[0m\n\u001b[0;32m    530\u001b[0m         \u001b[1;32melif\u001b[0m \u001b[0mself\u001b[0m\u001b[1;33m.\u001b[0m\u001b[0mdownload_state\u001b[0m \u001b[1;33m==\u001b[0m \u001b[0mArticleDownloadState\u001b[0m\u001b[1;33m.\u001b[0m\u001b[0mFAILED_RESPONSE\u001b[0m\u001b[1;33m:\u001b[0m\u001b[1;33m\u001b[0m\u001b[1;33m\u001b[0m\u001b[0m\n\u001b[1;32m--> 531\u001b[1;33m             raise ArticleException('Article `download()` failed with %s on URL %s' %\n\u001b[0m\u001b[0;32m    532\u001b[0m                   (self.download_exception_msg, self.url))\n\u001b[0;32m    533\u001b[0m \u001b[1;33m\u001b[0m\u001b[0m\n",
      "\u001b[1;31mArticleException\u001b[0m: Article `download()` failed with HTTPSConnectionPool(host='www.eetimes.com', port=443): Read timed out. (read timeout=7) on URL https://www.eetimes.com/chip-equipment-becomes-trade-wars-latest-battlefield/"
     ]
    }
   ],
   "source": [
    "list=[]\r\n",
    "for ind in df.index[:1]:\r\n",
    "    dict={}\r\n",
    "    article = Article(df['link'][ind],config=config)\r\n",
    "    article.download()\r\n",
    "    article.parse()\r\n",
    "    article.nlp()\r\n",
    "    dict['Date']=df['date'][ind]\r\n",
    "    dict['Media']=df['media'][ind]\r\n",
    "    dict['Title']=article.title\r\n",
    "    dict['Article']=article.text\r\n",
    "    dict['Summary']=article.summary\r\n",
    "    list.append(dict)\r\n",
    "news_df=pd.DataFrame(list)\r\n",
    "news_df"
   ]
  },
  {
   "cell_type": "code",
   "execution_count": 1,
   "metadata": {},
   "outputs": [
    {
     "name": "stderr",
     "output_type": "stream",
     "text": [
      "[nltk_data] Downloading package punkt to\n",
      "[nltk_data]     C:\\Users\\jack5\\AppData\\Roaming\\nltk_data...\n",
      "[nltk_data]   Package punkt is already up-to-date!\n"
     ]
    },
    {
     "name": "stdout",
     "output_type": "stream",
     "text": [
      "title               media  \\\n",
      "0  Coronavirus Global Response: €7.4 billion rais...                       \n",
      "1  Coronavirus live updates: Task force shifting ...           USA TODAY   \n",
      "2  Administration to Phase Out Coronavirus Task F...  The New York Times   \n",
      "3  Trump does not wear coronavirus mask at Honeyw...                CNBC   \n",
      "4  Chancellor extends furlough scheme until Octob...              GOV.UK   \n",
      "\n",
      "           date   datetime                                               desc  \\\n",
      "0     2020年5月4日 2020-05-04  Today, the Commission registered €7.4 billion,...   \n",
      "1     2020年5月6日 2020-05-06  There have been more than 10,000 coronavirus c...   \n",
      "2     2020年5月5日 2020-05-05  Administration to Phase Out Coronavirus Task F...   \n",
      "3   · 2020年5月5日 2020-05-05  President Donald Trump did not wear a mask as ...   \n",
      "4    2020年5月12日 2020-05-12  Coronavirus Job Retention Scheme will continue...   \n",
      "\n",
      "                                                link  \\\n",
      "0  https://ec.europa.eu/commission/presscorner/de...   \n",
      "1  https://www.usatoday.com/story/news/health/202...   \n",
      "2  https://www.nytimes.com/2020/05/05/us/politics...   \n",
      "3  https://www.cnbc.com/2020/05/05/coronavirus-tr...   \n",
      "4  https://www.gov.uk/government/news/chancellor-...   \n",
      "\n",
      "                                                 img  \n",
      "0  data:image/gif;base64,R0lGODlhAQABAIAAAP//////...  \n",
      "1  data:image/gif;base64,R0lGODlhAQABAIAAAP//////...  \n",
      "2  data:image/gif;base64,R0lGODlhAQABAIAAAP//////...  \n",
      "3  data:image/gif;base64,R0lGODlhAQABAIAAAP//////...  \n",
      "4  data:image/gif;base64,R0lGODlhAQABAIAAAP//////...  \n"
     ]
    },
    {
     "ename": "ArticleException",
     "evalue": "Article `download()` failed with HTTPSConnectionPool(host='www.washingtonpost.com', port=443): Read timed out. (read timeout=7) on URL https://www.washingtonpost.com/nation/2020/05/14/coronavirus-update-us/",
     "output_type": "error",
     "traceback": [
      "\u001b[1;31m---------------------------------------------------------------------------\u001b[0m",
      "\u001b[1;31mArticleException\u001b[0m                          Traceback (most recent call last)",
      "\u001b[1;32m<ipython-input-1-5f77f308727b>\u001b[0m in \u001b[0;36m<module>\u001b[1;34m\u001b[0m\n\u001b[0;32m     24\u001b[0m     \u001b[0marticle\u001b[0m \u001b[1;33m=\u001b[0m \u001b[0mArticle\u001b[0m\u001b[1;33m(\u001b[0m\u001b[0mdf\u001b[0m\u001b[1;33m[\u001b[0m\u001b[1;34m'link'\u001b[0m\u001b[1;33m]\u001b[0m\u001b[1;33m[\u001b[0m\u001b[0mind\u001b[0m\u001b[1;33m]\u001b[0m\u001b[1;33m,\u001b[0m\u001b[0mconfig\u001b[0m\u001b[1;33m=\u001b[0m\u001b[0mconfig\u001b[0m\u001b[1;33m)\u001b[0m\u001b[1;33m\u001b[0m\u001b[1;33m\u001b[0m\u001b[0m\n\u001b[0;32m     25\u001b[0m     \u001b[0marticle\u001b[0m\u001b[1;33m.\u001b[0m\u001b[0mdownload\u001b[0m\u001b[1;33m(\u001b[0m\u001b[1;33m)\u001b[0m\u001b[1;33m\u001b[0m\u001b[1;33m\u001b[0m\u001b[0m\n\u001b[1;32m---> 26\u001b[1;33m     \u001b[0marticle\u001b[0m\u001b[1;33m.\u001b[0m\u001b[0mparse\u001b[0m\u001b[1;33m(\u001b[0m\u001b[1;33m)\u001b[0m\u001b[1;33m\u001b[0m\u001b[1;33m\u001b[0m\u001b[0m\n\u001b[0m\u001b[0;32m     27\u001b[0m     \u001b[0marticle\u001b[0m\u001b[1;33m.\u001b[0m\u001b[0mnlp\u001b[0m\u001b[1;33m(\u001b[0m\u001b[1;33m)\u001b[0m\u001b[1;33m\u001b[0m\u001b[1;33m\u001b[0m\u001b[0m\n\u001b[0;32m     28\u001b[0m     \u001b[0mdict\u001b[0m\u001b[1;33m[\u001b[0m\u001b[1;34m'Date'\u001b[0m\u001b[1;33m]\u001b[0m\u001b[1;33m=\u001b[0m\u001b[0mdf\u001b[0m\u001b[1;33m[\u001b[0m\u001b[1;34m'date'\u001b[0m\u001b[1;33m]\u001b[0m\u001b[1;33m[\u001b[0m\u001b[0mind\u001b[0m\u001b[1;33m]\u001b[0m\u001b[1;33m\u001b[0m\u001b[1;33m\u001b[0m\u001b[0m\n",
      "\u001b[1;32mC:\\anaconda3\\lib\\site-packages\\newspaper\\article.py\u001b[0m in \u001b[0;36mparse\u001b[1;34m(self)\u001b[0m\n\u001b[0;32m    189\u001b[0m \u001b[1;33m\u001b[0m\u001b[0m\n\u001b[0;32m    190\u001b[0m     \u001b[1;32mdef\u001b[0m \u001b[0mparse\u001b[0m\u001b[1;33m(\u001b[0m\u001b[0mself\u001b[0m\u001b[1;33m)\u001b[0m\u001b[1;33m:\u001b[0m\u001b[1;33m\u001b[0m\u001b[1;33m\u001b[0m\u001b[0m\n\u001b[1;32m--> 191\u001b[1;33m         \u001b[0mself\u001b[0m\u001b[1;33m.\u001b[0m\u001b[0mthrow_if_not_downloaded_verbose\u001b[0m\u001b[1;33m(\u001b[0m\u001b[1;33m)\u001b[0m\u001b[1;33m\u001b[0m\u001b[1;33m\u001b[0m\u001b[0m\n\u001b[0m\u001b[0;32m    192\u001b[0m \u001b[1;33m\u001b[0m\u001b[0m\n\u001b[0;32m    193\u001b[0m         \u001b[0mself\u001b[0m\u001b[1;33m.\u001b[0m\u001b[0mdoc\u001b[0m \u001b[1;33m=\u001b[0m \u001b[0mself\u001b[0m\u001b[1;33m.\u001b[0m\u001b[0mconfig\u001b[0m\u001b[1;33m.\u001b[0m\u001b[0mget_parser\u001b[0m\u001b[1;33m(\u001b[0m\u001b[1;33m)\u001b[0m\u001b[1;33m.\u001b[0m\u001b[0mfromstring\u001b[0m\u001b[1;33m(\u001b[0m\u001b[0mself\u001b[0m\u001b[1;33m.\u001b[0m\u001b[0mhtml\u001b[0m\u001b[1;33m)\u001b[0m\u001b[1;33m\u001b[0m\u001b[1;33m\u001b[0m\u001b[0m\n",
      "\u001b[1;32mC:\\anaconda3\\lib\\site-packages\\newspaper\\article.py\u001b[0m in \u001b[0;36mthrow_if_not_downloaded_verbose\u001b[1;34m(self)\u001b[0m\n\u001b[0;32m    529\u001b[0m             \u001b[1;32mraise\u001b[0m \u001b[0mArticleException\u001b[0m\u001b[1;33m(\u001b[0m\u001b[1;34m'You must `download()` an article first!'\u001b[0m\u001b[1;33m)\u001b[0m\u001b[1;33m\u001b[0m\u001b[1;33m\u001b[0m\u001b[0m\n\u001b[0;32m    530\u001b[0m         \u001b[1;32melif\u001b[0m \u001b[0mself\u001b[0m\u001b[1;33m.\u001b[0m\u001b[0mdownload_state\u001b[0m \u001b[1;33m==\u001b[0m \u001b[0mArticleDownloadState\u001b[0m\u001b[1;33m.\u001b[0m\u001b[0mFAILED_RESPONSE\u001b[0m\u001b[1;33m:\u001b[0m\u001b[1;33m\u001b[0m\u001b[1;33m\u001b[0m\u001b[0m\n\u001b[1;32m--> 531\u001b[1;33m             raise ArticleException('Article `download()` failed with %s on URL %s' %\n\u001b[0m\u001b[0;32m    532\u001b[0m                   (self.download_exception_msg, self.url))\n\u001b[0;32m    533\u001b[0m \u001b[1;33m\u001b[0m\u001b[0m\n",
      "\u001b[1;31mArticleException\u001b[0m: Article `download()` failed with HTTPSConnectionPool(host='www.washingtonpost.com', port=443): Read timed out. (read timeout=7) on URL https://www.washingtonpost.com/nation/2020/05/14/coronavirus-update-us/"
     ]
    }
   ],
   "source": [
    "news_df.to_excel(\"articles.xlsx\")"
   ]
  }
 ],
 "metadata": {
  "kernelspec": {
   "display_name": "Python 3",
   "name": "python3"
  },
  "language_info": {
   "codemirror_mode": {
    "name": "ipython",
    "version": 3
   },
   "file_extension": ".py",
   "mimetype": "text/x-python",
   "name": "python",
   "nbconvert_exporter": "python",
   "pygments_lexer": "ipython3",
   "version": "3.8.5"
  },
  "orig_nbformat": 2
 },
 "nbformat": 4,
 "nbformat_minor": 2
}