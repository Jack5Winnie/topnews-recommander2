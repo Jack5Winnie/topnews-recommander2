{
 "cells": [
  {
   "cell_type": "markdown",
   "metadata": {},
   "source": [
    "!pip install pygooglenews --upgrade\r\n",
    "!pip install asyncio"
   ]
  },
  {
   "cell_type": "code",
   "execution_count": 2,
   "metadata": {},
   "outputs": [],
   "source": [
    "import asyncio\r\n",
    "from pygooglenews import GoogleNews"
   ]
  },
  {
   "cell_type": "code",
   "execution_count": 3,
   "metadata": {},
   "outputs": [],
   "source": [
    "class GoogleApi:\r\n",
    "    def __init__(self):\r\n",
    "        self._api = self._get_api()"
   ]
  },
  {
   "cell_type": "code",
   "execution_count": 4,
   "metadata": {},
   "outputs": [],
   "source": [
    "def _get_api(self):\r\n",
    "        return GoogleNews()\r\n",
    "def _get_news_for_word(self, word, top):\r\n",
    "        text = self._api.search(word, when='1w')['entries']\r\n",
    "        news = list(map(lambda x: self._clean(x['title']) + ' @ (' + x['published'] + ')', text))[:top]\r\n",
    "        return news"
   ]
  },
  {
   "cell_type": "code",
   "execution_count": 5,
   "metadata": {},
   "outputs": [],
   "source": [
    "def _clean(self, text):\r\n",
    "       clean_text = re.sub(r'http\\S+', '', text, flags=re.MULTILINE)\r\n",
    "       regrex_pattern = re.compile(pattern=\"[\"\r\n",
    "           u\"\\U0001F600-\\U0001F64F\"  # emoticons\r\n",
    "           u\"\\U0001F300-\\U0001F5FF\"  # symbols & pictographs\r\n",
    "           u\"\\U0001F680-\\U0001F6FF\"  # transport & map symbols\r\n",
    "           u\"\\U0001F1E0-\\U0001F1FF\"  # flags (iOS)\r\n",
    "           u\"\\U0001f17a-\\U0001f97a\"  # flags (iOS)\r\n",
    "           \"]+\", flags=re.UNICODE)\r\n",
    "       return regrex_pattern.sub(r'', clean_text)"
   ]
  },
  {
   "cell_type": "code",
   "execution_count": 6,
   "metadata": {},
   "outputs": [],
   "source": [
    "async def get_news_for_locations(self, target_locations, top=3):\r\n",
    "    final = {}\r\n",
    "    for location in target_locations:\r\n",
    "        text = self._api.geo_headlines(location)['entries']\r\n",
    "        news = list(map(lambda x: self._clean(x['title']) + ' @ (' + x['published'] + ')', text))[:top]\r\n",
    "        final[location] = news\r\n",
    "    return final"
   ]
  },
  {
   "cell_type": "code",
   "execution_count": 7,
   "metadata": {},
   "outputs": [],
   "source": [
    "async def get_news_for_words(self, target_words, top=3):\r\n",
    "    text = {}\r\n",
    "    for word in target_words:\r\n",
    "        ts = self._get_news_for_word(word, top)\r\n",
    "        text[word] = ts\r\n",
    "    return text"
   ]
  },
  {
   "cell_type": "code",
   "execution_count": 9,
   "metadata": {},
   "outputs": [],
   "source": [
    "async def get_topic_headlines(self, topics, top=3):\r\n",
    "    topic_news = {}\r\n",
    "    for topic in topics:\r\n",
    "        try:\r\n",
    "            topic_headlines = self._api.topic_headlines(topic)['entries']\r\n",
    "            topic_news[topic] = list(\r\n",
    "                map(lambda x: self._clean(x['title']) + ' @ (' + x['published'] + ')', topic_headlines))[:top]\r\n",
    "        except Exception as e:\r\n",
    "            print(topic)\r\n",
    "            print(e)\r\n",
    "            topic_news[topic] = []\r\n",
    "    return topic_news"
   ]
  },
  {
   "cell_type": "code",
   "execution_count": 10,
   "metadata": {},
   "outputs": [],
   "source": [
    "async def get_top_news(self):\r\n",
    "    return self._api.top_news()"
   ]
  },
  {
   "cell_type": "code",
   "execution_count": 11,
   "metadata": {},
   "outputs": [],
   "source": [
    "async def main():\r\n",
    "    \"\"\"\r\n",
    "    Main method, call the appropriate methods\r\n",
    "    :return:\r\n",
    "    \"\"\"\r\n",
    "    google_api = GoogleApi()\r\n",
    "    trends = google_api.get_news_for_locations(['United States', 'United Kingdom', 'Worldwide'])\r\n",
    "    words = google_api.get_topic_headlines(['BUSINESS'])\r\n",
    "    users = google_api.get_news_for_words(['bloomberg', 'cnbc'], 2)\r\n",
    "    trends_text, words_text, news_users = await asyncio.gather(trends, words, users)\r\n",
    "    print('LOCATION NEWS')\r\n",
    "    for location, news in trends_text.items():\r\n",
    "        print(f'Location: {location}  \\n {news}')\r\n",
    "    print('\\nWORD NEWS')\r\n",
    "    for word, news in words_text.items():\r\n",
    "        print(f'Word: {word}  \\n {news}')\r\n",
    "    print('\\nUSER NEWS')\r\n",
    "    for user, news in news_users.items():\r\n",
    "        print(f'User: {user}  \\n {news}')"
   ]
  },
  {
   "cell_type": "code",
   "execution_count": 12,
   "metadata": {},
   "outputs": [
    {
     "ename": "RuntimeError",
     "evalue": "This event loop is already running",
     "output_type": "error",
     "traceback": [
      "\u001b[1;31m---------------------------------------------------------------------------\u001b[0m",
      "\u001b[1;31mRuntimeError\u001b[0m                              Traceback (most recent call last)",
      "\u001b[1;32m<ipython-input-12-da2656d0c1db>\u001b[0m in \u001b[0;36m<module>\u001b[1;34m\u001b[0m\n\u001b[0;32m      1\u001b[0m \u001b[1;32mif\u001b[0m \u001b[0m__name__\u001b[0m \u001b[1;33m==\u001b[0m \u001b[1;34m\"__main__\"\u001b[0m\u001b[1;33m:\u001b[0m\u001b[1;33m\u001b[0m\u001b[1;33m\u001b[0m\u001b[0m\n\u001b[0;32m      2\u001b[0m     \u001b[0mloop\u001b[0m \u001b[1;33m=\u001b[0m \u001b[0masyncio\u001b[0m\u001b[1;33m.\u001b[0m\u001b[0mget_event_loop\u001b[0m\u001b[1;33m(\u001b[0m\u001b[1;33m)\u001b[0m\u001b[1;33m\u001b[0m\u001b[1;33m\u001b[0m\u001b[0m\n\u001b[1;32m----> 3\u001b[1;33m     \u001b[0mloop\u001b[0m\u001b[1;33m.\u001b[0m\u001b[0mrun_until_complete\u001b[0m\u001b[1;33m(\u001b[0m\u001b[0masyncio\u001b[0m\u001b[1;33m.\u001b[0m\u001b[0mwait\u001b[0m\u001b[1;33m(\u001b[0m\u001b[1;33m[\u001b[0m\u001b[0mmain\u001b[0m\u001b[1;33m(\u001b[0m\u001b[1;33m)\u001b[0m\u001b[1;33m]\u001b[0m\u001b[1;33m)\u001b[0m\u001b[1;33m)\u001b[0m\u001b[1;33m\u001b[0m\u001b[1;33m\u001b[0m\u001b[0m\n\u001b[0m",
      "\u001b[1;32mC:\\anaconda3\\lib\\asyncio\\base_events.py\u001b[0m in \u001b[0;36mrun_until_complete\u001b[1;34m(self, future)\u001b[0m\n\u001b[0;32m    590\u001b[0m         \"\"\"\n\u001b[0;32m    591\u001b[0m         \u001b[0mself\u001b[0m\u001b[1;33m.\u001b[0m\u001b[0m_check_closed\u001b[0m\u001b[1;33m(\u001b[0m\u001b[1;33m)\u001b[0m\u001b[1;33m\u001b[0m\u001b[1;33m\u001b[0m\u001b[0m\n\u001b[1;32m--> 592\u001b[1;33m         \u001b[0mself\u001b[0m\u001b[1;33m.\u001b[0m\u001b[0m_check_running\u001b[0m\u001b[1;33m(\u001b[0m\u001b[1;33m)\u001b[0m\u001b[1;33m\u001b[0m\u001b[1;33m\u001b[0m\u001b[0m\n\u001b[0m\u001b[0;32m    593\u001b[0m \u001b[1;33m\u001b[0m\u001b[0m\n\u001b[0;32m    594\u001b[0m         \u001b[0mnew_task\u001b[0m \u001b[1;33m=\u001b[0m \u001b[1;32mnot\u001b[0m \u001b[0mfutures\u001b[0m\u001b[1;33m.\u001b[0m\u001b[0misfuture\u001b[0m\u001b[1;33m(\u001b[0m\u001b[0mfuture\u001b[0m\u001b[1;33m)\u001b[0m\u001b[1;33m\u001b[0m\u001b[1;33m\u001b[0m\u001b[0m\n",
      "\u001b[1;32mC:\\anaconda3\\lib\\asyncio\\base_events.py\u001b[0m in \u001b[0;36m_check_running\u001b[1;34m(self)\u001b[0m\n\u001b[0;32m    550\u001b[0m     \u001b[1;32mdef\u001b[0m \u001b[0m_check_running\u001b[0m\u001b[1;33m(\u001b[0m\u001b[0mself\u001b[0m\u001b[1;33m)\u001b[0m\u001b[1;33m:\u001b[0m\u001b[1;33m\u001b[0m\u001b[1;33m\u001b[0m\u001b[0m\n\u001b[0;32m    551\u001b[0m         \u001b[1;32mif\u001b[0m \u001b[0mself\u001b[0m\u001b[1;33m.\u001b[0m\u001b[0mis_running\u001b[0m\u001b[1;33m(\u001b[0m\u001b[1;33m)\u001b[0m\u001b[1;33m:\u001b[0m\u001b[1;33m\u001b[0m\u001b[1;33m\u001b[0m\u001b[0m\n\u001b[1;32m--> 552\u001b[1;33m             \u001b[1;32mraise\u001b[0m \u001b[0mRuntimeError\u001b[0m\u001b[1;33m(\u001b[0m\u001b[1;34m'This event loop is already running'\u001b[0m\u001b[1;33m)\u001b[0m\u001b[1;33m\u001b[0m\u001b[1;33m\u001b[0m\u001b[0m\n\u001b[0m\u001b[0;32m    553\u001b[0m         \u001b[1;32mif\u001b[0m \u001b[0mevents\u001b[0m\u001b[1;33m.\u001b[0m\u001b[0m_get_running_loop\u001b[0m\u001b[1;33m(\u001b[0m\u001b[1;33m)\u001b[0m \u001b[1;32mis\u001b[0m \u001b[1;32mnot\u001b[0m \u001b[1;32mNone\u001b[0m\u001b[1;33m:\u001b[0m\u001b[1;33m\u001b[0m\u001b[1;33m\u001b[0m\u001b[0m\n\u001b[0;32m    554\u001b[0m             raise RuntimeError(\n",
      "\u001b[1;31mRuntimeError\u001b[0m: This event loop is already running"
     ]
    }
   ],
   "source": [
    "if __name__ == \"__main__\":\r\n",
    "    loop = asyncio.get_event_loop()\r\n",
    "    loop.run_until_complete(asyncio.wait([main()]))"
   ]
  },
  {
   "cell_type": "code",
   "execution_count": null,
   "metadata": {},
   "outputs": [],
   "source": []
  }
 ],
 "metadata": {
  "kernelspec": {
   "display_name": "Python 3",
   "name": "python3"
  },
  "language_info": {
   "codemirror_mode": {
    "name": "ipython",
    "version": 3
   },
   "file_extension": ".py",
   "mimetype": "text/x-python",
   "name": "python",
   "nbconvert_exporter": "python",
   "pygments_lexer": "ipython3",
   "version": "3.8.5"
  },
  "orig_nbformat": 2
 },
 "nbformat": 4,
 "nbformat_minor": 2
}