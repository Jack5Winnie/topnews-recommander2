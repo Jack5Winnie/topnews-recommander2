{
 "cells": [
  {
   "cell_type": "code",
   "execution_count": 1,
   "metadata": {},
   "outputs": [],
   "source": [
    "import os\n",
    "from newsapi.newsapi_client import NewsApiClient\n",
    "#from newsapi import newsapi_client as NewsApiClient\n",
    "\n",
    "#os.environ[\"news_api\"] = \"112c9b2a21544785ac573f0221cff7ed\"\n",
    "# print(os.environ.get(\"news_api\"))\n",
    "api = NewsApiClient(api_key=\"112c9b2a21544785ac573f0221cff7ed\")  #(news_api) #  NewsApiClient(news_api)   #api_key=os.environ.get(\"news_api\"))"
   ]
  },
  {
   "cell_type": "code",
   "execution_count": 2,
   "metadata": {},
   "outputs": [],
   "source": [
    "# import packages\n",
    "from __future__ import print_function\n",
    "import requests\n",
    "import pandas as pd\n",
    "from datetime import datetime\n",
    "from tqdm import tqdm\n",
    "from matplotlib import pyplot as plt"
   ]
  },
  {
   "cell_type": "code",
   "execution_count": 3,
   "metadata": {},
   "outputs": [],
   "source": [
    "NEWS_HIGHLIGHTS_BASE_URL = 'https://newsapi.org/v2/top-headlines?country={}&apiKey={}'\n",
    "NEWS_SOURCE_BASE_URL = 'https://newsapi.org/v2/sources?apiKey={}'\n",
    "NEWS_ENTERTAINMENT_BASE_URL = 'https://newsapi.org/v2/top-headlines?category={}&apiKey={}'"
   ]
  },
  {
   "cell_type": "code",
   "execution_count": 4,
   "metadata": {},
   "outputs": [],
   "source": [
    "def getSources():\n",
    "    source_url = 'https://newsapi.org/v1/sources?language=en'\n",
    "    response = requests.get(source_url).json()\n",
    "    sources = []\n",
    "    for source in response['sources']:\n",
    "        sources.append(source['id'])\n",
    "    return sources"
   ]
  },
  {
   "cell_type": "code",
   "execution_count": 7,
   "metadata": {},
   "outputs": [
    {
     "data": {
      "text/html": "<div>\n<style scoped>\n    .dataframe tbody tr th:only-of-type {\n        vertical-align: middle;\n    }\n\n    .dataframe tbody tr th {\n        vertical-align: top;\n    }\n\n    .dataframe thead th {\n        text-align: right;\n    }\n</style>\n<table border=\"1\" class=\"dataframe\">\n  <thead>\n    <tr style=\"text-align: right;\">\n      <th></th>\n      <th>url</th>\n    </tr>\n  </thead>\n  <tbody>\n    <tr>\n      <th>0</th>\n      <td>abc-news-au</td>\n    </tr>\n    <tr>\n      <th>1</th>\n      <td>al-jazeera-english</td>\n    </tr>\n    <tr>\n      <th>2</th>\n      <td>ars-technica</td>\n    </tr>\n    <tr>\n      <th>3</th>\n      <td>associated-press</td>\n    </tr>\n    <tr>\n      <th>4</th>\n      <td>bbc-news</td>\n    </tr>\n  </tbody>\n</table>\n</div>",
      "text/plain": "                  url\n0         abc-news-au\n1  al-jazeera-english\n2        ars-technica\n3    associated-press\n4            bbc-news"
     },
     "execution_count": 7,
     "metadata": {},
     "output_type": "execute_result"
    }
   ],
   "source": [
    "sources= getSources()\r\n",
    "df_source = pd.DataFrame(sources, columns=[\"url\"])\r\n",
    "df_source.head()"
   ]
  },
  {
   "cell_type": "code",
   "execution_count": 8,
   "metadata": {},
   "outputs": [],
   "source": [
    "import datetime\n",
    "import urllib.request, json"
   ]
  },
  {
   "cell_type": "code",
   "execution_count": null,
   "metadata": {},
   "outputs": [],
   "source": []
  }
 ],
 "metadata": {
  "kernelspec": {
   "display_name": "Python 3",
   "name": "python3"
  },
  "language_info": {
   "codemirror_mode": {
    "name": "ipython",
    "version": 3
   },
   "file_extension": ".py",
   "mimetype": "text/x-python",
   "name": "python",
   "nbconvert_exporter": "python",
   "pygments_lexer": "ipython3",
   "version": "3.8.3-final"
  },
  "orig_nbformat": 2
 },
 "nbformat": 4,
 "nbformat_minor": 2
}